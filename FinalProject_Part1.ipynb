{
 "cells": [
  {
   "cell_type": "markdown",
   "metadata": {},
   "source": [
    "# Is Knoxville or Chattanooga a better retirement location near the Great Smoky Mountains?"
   ]
  },
  {
   "cell_type": "markdown",
   "metadata": {},
   "source": [
    "## Introduction/Business Problem"
   ]
  },
  {
   "cell_type": "markdown",
   "metadata": {},
   "source": [
    "The Great Smoky  Mountains are a great area to retire.  There are many recreational places to do outdoor activities such as fishing and hiking.  When it comes to retirement, many people are looking for a location that has good healthcare, good food, and entertainment.  But how would one go about picking a good location?\n",
    "\n",
    "The state of Tennessee is a good section of the Great Smoky Mountains because they do not have any state income tax.  There are two major cities in Tennessee near the Great Smoky Mountains, Knoxville and Chattanooga.  This project will look at the characteristics of the neigbhorhoods in both cities and make a recommendation as to which is the best city to retire based on the healthcare, restaurants, and entertainment available nearby."
   ]
  },
  {
   "cell_type": "markdown",
   "metadata": {},
   "source": [
    "## Data Description"
   ]
  },
  {
   "cell_type": "markdown",
   "metadata": {},
   "source": [
    "To determine which city and neighborhood in either Knoxville or Chattanooga, Tennessee would be the best place to retire, Wikipedia will be used to gather some information about each city, including the neighborhoods. Folium will be used to map the neighborhoods and get an idea of how close they are to the recreational areas in the mountains.\n",
    "\n",
    "The information from the Foursquare API will be used to find out the number of healthcare facilities, restaurants, and entertainment venues that are nearby."
   ]
  }
 ],
 "metadata": {
  "kernelspec": {
   "display_name": "Python 3",
   "language": "python",
   "name": "python3"
  },
  "language_info": {
   "codemirror_mode": {
    "name": "ipython",
    "version": 3
   },
   "file_extension": ".py",
   "mimetype": "text/x-python",
   "name": "python",
   "nbconvert_exporter": "python",
   "pygments_lexer": "ipython3",
   "version": "3.7.4"
  }
 },
 "nbformat": 4,
 "nbformat_minor": 2
}
